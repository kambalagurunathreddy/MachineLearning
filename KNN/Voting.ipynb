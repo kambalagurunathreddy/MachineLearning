{
 "cells": [
  {
   "cell_type": "code",
   "execution_count": 1,
   "metadata": {},
   "outputs": [
    {
     "name": "stdout",
     "output_type": "stream",
     "text": [
      "dict_items([('C3', 3), ('C2', 2), ('C4', 0), ('C5', 3), ('C1', 3)])\n",
      "[('C3', 3), ('C5', 3), ('C1', 3), ('C2', 2), ('C4', 0)]\n",
      "{'C3': 3, 'C5': 3, 'C1': 3, 'C2': 2, 'C4': 0}\n"
     ]
    }
   ],
   "source": [
    "import operator\n",
    "s={\"C3\":3,\"C2\":2,\"C4\":0,\"C5\":3,\"C1\":3}\n",
    "s=s.items()\n",
    "print(s)\n",
    "s = sorted(s, key = operator.itemgetter(1),reverse=True)\n",
    "print(s)\n",
    "print(dict(s))\n",
    "\n",
    "\n",
    "\n"
   ]
  },
  {
   "cell_type": "code",
   "execution_count": 27,
   "metadata": {},
   "outputs": [
    {
     "name": "stdout",
     "output_type": "stream",
     "text": [
      "[('C5', 3), ('C3', 3), ('C1', 3), ('C2', 2), ('C4', 0)]\n"
     ]
    }
   ],
   "source": []
  },
  {
   "cell_type": "code",
   "execution_count": 28,
   "metadata": {},
   "outputs": [],
   "source": [
    "import pandas as pd"
   ]
  },
  {
   "cell_type": "code",
   "execution_count": 92,
   "metadata": {},
   "outputs": [
    {
     "name": "stdout",
     "output_type": "stream",
     "text": [
      "[('C5', 3), ('C3', 3), ('C1', 3), ('C2', 2), ('C4', 0)]\n"
     ]
    },
    {
     "data": {
      "text/plain": [
       "'C1'"
      ]
     },
     "execution_count": 92,
     "metadata": {},
     "output_type": "execute_result"
    }
   ],
   "source": [
    "s={\"C3\":3,\"C2\":2,\"C4\":0,\"C5\":3,\"C1\":3}\n",
    "e=sorted(s.items(), key=lambda x: (x[1],x[0]), reverse=True)\n",
    "print(e)\n",
    "d=pd.DataFrame(e)\n",
    "dFilter=d[d[1]==d[1].max()]\n",
    "fg = dFilter.sort_values(by = 0,ascending=True).head(1)\n",
    "fg[0].values[0]"
   ]
  },
  {
   "cell_type": "code",
   "execution_count": 88,
   "metadata": {},
   "outputs": [],
   "source": [
    "def g(s,t,m):\n",
    "    for i in t:\n",
    "        if s[i]==m:\n",
    "            return i"
   ]
  },
  {
   "cell_type": "code",
   "execution_count": 15,
   "metadata": {},
   "outputs": [
    {
     "data": {
      "text/plain": [
       "'C3'"
      ]
     },
     "execution_count": 15,
     "metadata": {},
     "output_type": "execute_result"
    }
   ],
   "source": [
    "g(s,t,m)"
   ]
  },
  {
   "cell_type": "code",
   "execution_count": null,
   "metadata": {},
   "outputs": [],
   "source": []
  }
 ],
 "metadata": {
  "kernelspec": {
   "display_name": "Python 3",
   "language": "python",
   "name": "python3"
  },
  "language_info": {
   "codemirror_mode": {
    "name": "ipython",
    "version": 3
   },
   "file_extension": ".py",
   "mimetype": "text/x-python",
   "name": "python",
   "nbconvert_exporter": "python",
   "pygments_lexer": "ipython3",
   "version": "3.6.5"
  }
 },
 "nbformat": 4,
 "nbformat_minor": 2
}
